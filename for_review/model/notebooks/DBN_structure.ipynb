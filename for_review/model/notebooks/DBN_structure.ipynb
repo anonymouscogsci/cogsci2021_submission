{
 "cells": [
  {
   "cell_type": "code",
   "execution_count": 1,
   "metadata": {},
   "outputs": [],
   "source": [
    "import copy\n",
    "import numpy as np \n",
    "from abc import ABC, abstractmethod\n",
    "import matplotlib.pyplot as plt\n",
    "import networkx as nx\n",
    "import string\n",
    "import pandas as pd\n",
    "import json\n",
    "import random as rd\n",
    "from scipy.stats import beta\n",
    "from itertools import product\n",
    "from tqdm import tqdm\n",
    "from joblib import Parallel, delayed\n",
    "\n",
    "import sys\n",
    "sys.path.insert(0, '..')\n",
    "from simulator.fishbeliefs import *"
   ]
  },
  {
   "cell_type": "markdown",
   "metadata": {},
   "source": [
    "# Infer structure"
   ]
  },
  {
   "cell_type": "code",
   "execution_count": 2,
   "metadata": {},
   "outputs": [],
   "source": [
    "# Generate stimuli for pilot experiment\n",
    "real_sequences = []\n",
    "for k,e in structures.items():\n",
    "    simulator = FishBeliefNetwork(n_agents=3, edge_p=1/3., planet=1., edges=e, structure=k)\n",
    "    for _ in range(10):\n",
    "        simulator.step()\n",
    "    data = [[step[1][\"belief\"],step[1][\"strength_discrete\"],step[2][\"belief\"],step[2][\"strength_discrete\"]] for step in simulator.signal_history]   \n",
    "    real_sequences.append([k,data])\n",
    "\n"
   ]
  },
  {
   "cell_type": "code",
   "execution_count": 3,
   "metadata": {},
   "outputs": [],
   "source": [
    "def simulate_data(edges, structure):\n",
    "    simulator = FishBeliefNetworkNaive(n_agents=3, edge_p=1/3., edges=edges, structure=structure)\n",
    "    for _ in range(10):\n",
    "        simulator.step()\n",
    "    data = [[step[1][\"belief\"],step[1][\"strength_discrete\"],step[2][\"belief\"],step[2][\"strength_discrete\"]] for step in simulator.signal_history]\n",
    "    return [structure, data]\n",
    "\n",
    "\n",
    "tmp = simulate_data(structures['indep'],\"indep\")\n"
   ]
  },
  {
   "cell_type": "code",
   "execution_count": 4,
   "metadata": {},
   "outputs": [
    {
     "name": "stderr",
     "output_type": "stream",
     "text": [
      "100%|██████████| 1000000/1000000 [05:17<00:00, 3148.81it/s]\n",
      "100%|██████████| 1000000/1000000 [06:19<00:00, 2635.69it/s]\n",
      "100%|██████████| 1000000/1000000 [07:38<00:00, 2182.91it/s]\n",
      "100%|██████████| 1000000/1000000 [09:18<00:00, 1790.98it/s]\n"
     ]
    }
   ],
   "source": [
    "data_size = 1000000\n",
    "simulated_sequences = []\n",
    "for k,e in structures.items():\n",
    "    batch = Parallel(n_jobs=2)(\n",
    "            delayed(simulate_data)(e,k)\n",
    "            for i in tqdm(range(data_size)))\n",
    "    simulated_sequences += batch\n",
    "\n",
    "        \n",
    "\n"
   ]
  },
  {
   "cell_type": "code",
   "execution_count": 5,
   "metadata": {},
   "outputs": [],
   "source": [
    "struct_inf = {}\n",
    "struct_inf_norm = {}\n",
    "for true_structure, y_obs in real_sequences:\n",
    "    steps = {}\n",
    "    unnorm_post = {'indep':0, 'b->c':0, 'c->b':0, 'b<->c':0}\n",
    "    for sim_structure, y_sim in simulated_sequences:\n",
    "        # Only looking at exact match of the observed data\n",
    "        if y_obs == y_sim: \n",
    "            unnorm_post[sim_structure] += 1\n",
    "    struct_inf[true_structure] = unnorm_post"
   ]
  },
  {
   "cell_type": "code",
   "execution_count": 6,
   "metadata": {},
   "outputs": [
    {
     "data": {
      "text/plain": [
       "{'indep': {'indep': 30, 'b->c': 0, 'c->b': 0, 'b<->c': 0},\n",
       " 'b->c': {'indep': 0, 'b->c': 8, 'c->b': 0, 'b<->c': 0},\n",
       " 'c->b': {'indep': 0, 'b->c': 0, 'c->b': 23, 'b<->c': 0},\n",
       " 'b<->c': {'indep': 0, 'b->c': 0, 'c->b': 0, 'b<->c': 32}}"
      ]
     },
     "execution_count": 6,
     "metadata": {},
     "output_type": "execute_result"
    }
   ],
   "source": [
    "struct_inf"
   ]
  },
  {
   "cell_type": "code",
   "execution_count": null,
   "metadata": {},
   "outputs": [],
   "source": [
    "# Unnormalised\n",
    "for k,v in struct_inf.items():\n",
    "    print(\"True structure: {}\".format(k))\n",
    "    for step,samples in v.items():\n",
    "        print(\"   Step {}: {}\".format(step, samples.items()))\n",
    "    print()"
   ]
  },
  {
   "cell_type": "code",
   "execution_count": null,
   "metadata": {},
   "outputs": [],
   "source": [
    "# Normalised\n",
    "for k,v in struct_inf.items():\n",
    "    print(\"True structure: {}\".format(k))\n",
    "    for step,samples in v.items():\n",
    "        print(\"   Step {}: {}\".format(step, {k:np.round(v/sum(samples.values()),2) for k,v in samples.items()}))\n",
    "    print()"
   ]
  },
  {
   "cell_type": "code",
   "execution_count": null,
   "metadata": {},
   "outputs": [],
   "source": [
    "matplotlib"
   ]
  }
 ],
 "metadata": {
  "kernelspec": {
   "display_name": "Python [conda env:socialstructure]",
   "language": "python",
   "name": "conda-env-socialstructure-py"
  },
  "language_info": {
   "codemirror_mode": {
    "name": "ipython",
    "version": 3
   },
   "file_extension": ".py",
   "mimetype": "text/x-python",
   "name": "python",
   "nbconvert_exporter": "python",
   "pygments_lexer": "ipython3",
   "version": "3.8.5"
  },
  "toc": {
   "base_numbering": 1,
   "nav_menu": {},
   "number_sections": true,
   "sideBar": true,
   "skip_h1_title": false,
   "title_cell": "Table of Contents",
   "title_sidebar": "Contents",
   "toc_cell": false,
   "toc_position": {},
   "toc_section_display": true,
   "toc_window_display": false
  }
 },
 "nbformat": 4,
 "nbformat_minor": 4
}
